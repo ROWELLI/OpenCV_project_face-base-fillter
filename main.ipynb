{
 "cells": [
  {
   "cell_type": "markdown",
   "metadata": {},
   "source": [
    "# 다운 받아야할 목록"
   ]
  },
  {
   "cell_type": "code",
   "execution_count": null,
   "metadata": {},
   "outputs": [
    {
     "name": "stdout",
     "output_type": "stream",
     "text": [
      "Collecting opencv-python\n",
      "  Downloading opencv_python-4.10.0.84-cp37-abi3-macosx_11_0_arm64.whl.metadata (20 kB)\n",
      "Requirement already satisfied: numpy>=1.21.2 in /opt/homebrew/lib/python3.12/site-packages (from opencv-python) (2.1.0)\n",
      "Downloading opencv_python-4.10.0.84-cp37-abi3-macosx_11_0_arm64.whl (54.8 MB)\n",
      "\u001b[2K   \u001b[91m━━━━━━\u001b[0m\u001b[91m╸\u001b[0m\u001b[90m━━━━━━━━━━━━━━━━━━━━━━━━━━━━━━━━━\u001b[0m \u001b[32m8.9/54.8 MB\u001b[0m \u001b[31m118.1 kB/s\u001b[0m eta \u001b[36m0:06:29\u001b[0m"
     ]
    }
   ],
   "source": [
    "!pip install opencv-python\n",
    "!pip install dlib\n",
    "!pip install numpy\n",
    "!pip install tensorflow\n",
    "!pip install keras"
   ]
  },
  {
   "cell_type": "code",
   "execution_count": null,
   "metadata": {},
   "outputs": [],
   "source": [
    "import cv2\n",
    "import dlib\n",
    "import numpy as np\n",
    "from keras.models import load_model"
   ]
  },
  {
   "cell_type": "code",
   "execution_count": null,
   "metadata": {},
   "outputs": [],
   "source": [
    "# 얼굴 인식\n",
    "face_cascade = cv2.CascadeClassifier('haarcascade_frontalface_default.xml')\n",
    "\n",
    "# 표정 인식을 위한 눈, 코, 입등의 위치 반환\n",
    "predictor = dlib.shape_predictor('c:/j/shape_predictor_68_face_landmarks.dat')\n",
    "\n",
    "# 표정 라벨링\n",
    "expression_labels = ['Angry', 'Disgust', 'Fear', 'Happy', 'Sad', 'Surprise', 'Neutral']\n",
    "\n",
    "# 표정 가중치 모델\n",
    "model = load_model('c:/j/emotion_model.hdf5')\n",
    "\n",
    "# 비디오 실행\n",
    "video_capture = cv2.VideoCapture(0)\n",
    "\n",
    "prev_faces = []\n",
    "\n",
    "while True:\n",
    "    # ret, frame 반환\n",
    "    ret, frame = video_capture.read()\n",
    "    \n",
    "    if not ret:\n",
    "        break\n",
    "\n",
    "    # 얼굴인식을 위해 gray 변환\n",
    "    gray = cv2.cvtColor(frame, cv2.COLOR_BGR2GRAY)\n",
    "\n",
    "    # 얼굴 인식\n",
    "    # scaleFactor이 1에 가까울수록 표정 인식이 잘 되고 멀 수록 잘 안됨\n",
    "    faces = face_cascade.detectMultiScale(gray, scaleFactor=1.1, minNeighbors=5, minSize=(30, 30))\n",
    "    \n",
    "    #region 얼굴이 인식되면 표정을 인식\n",
    "    for (x, y, w, h) in faces:\n",
    "        # 얼굴 크기에 알맞도록 사각형 그리기\n",
    "        cv2.rectangle(frame, (x, y), (x+w, y+h), (0, 255, 0), 2)\n",
    "\n",
    "        # 얼굴 크기 반환\n",
    "        face_roi = gray[y:y+h, x:x+w]\n",
    "\n",
    "        # 표정을 인식하기 위해 표정 dataset과 똑같은 사이즈 변환\n",
    "        # dataset 이미지와 입력된 얼굴의 크기가 다르면 error 발생\n",
    "        face_roi = cv2.resize(face_roi, (64, 64))\n",
    "        face_roi = np.expand_dims(face_roi, axis=-1)\n",
    "        face_roi = np.expand_dims(face_roi, axis=0)\n",
    "        face_roi = face_roi / 255.0\n",
    "\n",
    "        # 모델을 통해 표정 분석\n",
    "        output = model.predict(face_roi)[0]\n",
    "\n",
    "        # 해당 표정의 값 반환\n",
    "        expression_index = np.argmax(output)\n",
    "\n",
    "        # 표정에 따른 label 값 저장\n",
    "        expression_label = expression_labels[expression_index]\n",
    "        # print(expression_label, end=' ')\n",
    "        # 표정 값 출력\n",
    "        cv2.putText(frame, expression_label, (x, y-10), cv2.FONT_HERSHEY_SIMPLEX, 0.9, (0, 255, 0), 2)\n",
    "    #endregion\n",
    "    \n",
    "    # 출력\n",
    "    cv2.imshow('Expression Recognition', frame)\n",
    "\n",
    "    # esc 누를 경우 종료\n",
    "    key = cv2.waitKey(25)\n",
    "    if key == 27:\n",
    "        break\n",
    "\n",
    "if video_capture.Opened():\n",
    "    video_capture.release()\n",
    "cv2.destroyAllWindows()\n",
    "[출처] OpenCV 실시간 얼굴 표정 인식 파이썬|작성자 SeDo\n",
    "\n"
   ]
  }
 ],
 "metadata": {
  "kernelspec": {
   "display_name": "Python 3",
   "language": "python",
   "name": "python3"
  },
  "language_info": {
   "codemirror_mode": {
    "name": "ipython",
    "version": 3
   },
   "file_extension": ".py",
   "mimetype": "text/x-python",
   "name": "python",
   "nbconvert_exporter": "python",
   "pygments_lexer": "ipython3",
   "version": "3.12.6"
  }
 },
 "nbformat": 4,
 "nbformat_minor": 2
}
